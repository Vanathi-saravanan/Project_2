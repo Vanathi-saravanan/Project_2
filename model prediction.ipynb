{
 "cells": [
  {
   "cell_type": "code",
   "execution_count": null,
   "id": "de75067c-84c2-4bc5-85d8-d795d2e2c75c",
   "metadata": {},
   "outputs": [],
   "source": [
    "##since random forest model shows great performance compared to others..choosing random forest model as the best model\n",
    "final_model = best_models['Random Forest']\n",
    "final_predictions = final_model.predict(X_test)\n",
    "print(\"Final Predictions on Test Dataset:\")\n",
    "print(final_predictions)"
   ]
  },
  {
   "cell_type": "code",
   "execution_count": null,
   "id": "5241ad5a-83de-4c6f-83fe-91c3f5a3b53a",
   "metadata": {},
   "outputs": [],
   "source": [
    "predictions_series = pd.Series(final_predictions)\n",
    "\n",
    "# Count the labels 0's and 1's\n",
    "label_counts = predictions_series.value_counts()\n",
    "num_hate_speech = label_counts.get(1, 0) \n",
    "num_non_hate_speech = label_counts.get(0, 0) "
   ]
  },
  {
   "cell_type": "code",
   "execution_count": null,
   "id": "10fee546-bc7c-4f2b-af6d-42119eae6699",
   "metadata": {},
   "outputs": [],
   "source": [
    "print(f\"Number of hate speech (1 labels): {num_hate_speech}\")\n",
    "print(f\"Number of non-hate speech (0 labels): {num_non_hate_speech}\")"
   ]
  },
  {
   "cell_type": "markdown",
   "id": "489b29bf-f84d-408d-a806-6d5c965e0755",
   "metadata": {},
   "source": [
    "# Model inference"
   ]
  },
  {
   "cell_type": "code",
   "execution_count": null,
   "id": "b98caa23-bdb7-42b6-ade6-194675e0a435",
   "metadata": {},
   "outputs": [],
   "source": [
    "# SAVING THE MODEL \n",
    "X_train_text = train_df['tweet']  \n",
    "\n",
    "# TfidfVectorizer\n",
    "vectorizer = TfidfVectorizer()\n",
    "X_vectorized = vectorizer.fit_transform(X_train_text)  # Fit and transform the raw text\n",
    "\n",
    "# model fitting\n",
    "X_train, X_test, y_train, y_test = train_test_split(X_vectorized, y, test_size=0.2, random_state=42)\n",
    "\n",
    "# save both the model and vectorizer\n",
    "import joblib\n",
    "joblib.dump(final_model, 'final_random_forest_model.pkl')\n",
    "joblib.dump(vectorizer, 'tfidf_vectorizer.pkl')\n"
   ]
  },
  {
   "cell_type": "code",
   "execution_count": null,
   "id": "89285fbd-5c5f-4746-8bb5-a0b6d76d7d92",
   "metadata": {},
   "outputs": [],
   "source": [
    "# Load the saved model and vectorizer\n",
    "final_model = joblib.load('final_random_forest_model.pkl')\n",
    "vectorizer = joblib.load('tfidf_vectorizer.pkl')"
   ]
  },
  {
   "cell_type": "code",
   "execution_count": null,
   "id": "dba6710a-e891-4dec-a02a-a3b52623e693",
   "metadata": {},
   "outputs": [],
   "source": [
    "# Make prediction(eg.hate speech)\n",
    "statement = input(\"Enter a statement to classify: \")\n",
    "result = predict_statement(statement, final_model, vectorizer)\n",
    "print(f\"The statement is classified as: {result}\")\n"
   ]
  },
  {
   "cell_type": "code",
   "execution_count": null,
   "id": "3b7e0f85-ef2e-485a-a7d3-6824f2615afb",
   "metadata": {},
   "outputs": [],
   "source": [
    "# Make prediction(eg.non hate speech)\n",
    "statement = input(\"Enter a statement to classify: \")\n",
    "result = predict_statement(statement, final_model, vectorizer)\n",
    "print(f\"The statement is classified as: {result}\")\n"
   ]
  },
  {
   "cell_type": "code",
   "execution_count": null,
   "id": "b3c814a9-2c91-411d-9808-dc546dd2d7b0",
   "metadata": {},
   "outputs": [],
   "source": []
  }
 ],
 "metadata": {
  "kernelspec": {
   "display_name": "Python 3 (ipykernel)",
   "language": "python",
   "name": "python3"
  },
  "language_info": {
   "codemirror_mode": {
    "name": "ipython",
    "version": 3
   },
   "file_extension": ".py",
   "mimetype": "text/x-python",
   "name": "python",
   "nbconvert_exporter": "python",
   "pygments_lexer": "ipython3",
   "version": "3.12.4"
  }
 },
 "nbformat": 4,
 "nbformat_minor": 5
}
