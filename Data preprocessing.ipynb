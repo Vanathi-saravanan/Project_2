{
 "cells": [
  {
   "cell_type": "code",
   "execution_count": null,
   "id": "220bb005-d498-4881-bc88-714205d906bf",
   "metadata": {},
   "outputs": [],
   "source": [
    "##importing necessary libraries\n",
    "import pandas as pd\n",
    "import numpy as np\n",
    "import warnings\n",
    "warnings.filterwarnings('ignore')\n",
    "from sklearn.feature_extraction.text import TfidfVectorizer\n",
    "import matplotlib.pyplot as plt\n",
    "from imblearn.over_sampling import SMOTE"
   ]
  },
  {
   "cell_type": "code",
   "execution_count": null,
   "id": "3af91062-3be1-43dc-8ba2-2b58ff547ccc",
   "metadata": {},
   "outputs": [],
   "source": [
    "## loading train data\n",
    "train_df=pd.read_csv(\"C:/Users/vanat/Downloads/train.csv\")\n",
    "train_df.head()"
   ]
  },
  {
   "cell_type": "code",
   "execution_count": null,
   "id": "f0d0adac-7017-4976-8d52-64244067ee4c",
   "metadata": {},
   "outputs": [],
   "source": [
    "## Loading test data\n",
    "test_df=pd.read_csv(\"C:/Users/vanat/Downloads/test.csv\")\n",
    "test_df.head()"
   ]
  },
  {
   "cell_type": "code",
   "execution_count": null,
   "id": "fc35ecf7-3c14-445d-ac97-2db093a76452",
   "metadata": {},
   "outputs": [],
   "source": [
    "train_df.info()"
   ]
  },
  {
   "cell_type": "code",
   "execution_count": null,
   "id": "615dbc54-6acc-4197-8f6a-001d641f63e7",
   "metadata": {},
   "outputs": [],
   "source": [
    "train_df.drop('id',axis=1,inplace=True)\n",
    "test_df.drop('id',axis=1,inplace=True)"
   ]
  },
  {
   "cell_type": "code",
   "execution_count": null,
   "id": "fffbab93-38e2-43e4-8aa7-c82c545bc011",
   "metadata": {},
   "outputs": [],
   "source": [
    "test_df.head(2)"
   ]
  },
  {
   "cell_type": "markdown",
   "id": "32fec4b3-a254-401a-a0dc-489faef36b51",
   "metadata": {},
   "source": [
    "# Text preprocessing"
   ]
  },
  {
   "cell_type": "code",
   "execution_count": null,
   "id": "8078d593-0392-4a1a-8779-061baa89a3ab",
   "metadata": {},
   "outputs": [],
   "source": [
    "train_df['label'].value_counts()"
   ]
  },
  {
   "cell_type": "code",
   "execution_count": null,
   "id": "18aa79f7-5d8e-426d-a986-dc5fdca0dded",
   "metadata": {},
   "outputs": [],
   "source": [
    "#Hate speech \n",
    "hate_tweet=train_df[train_df['label']==1]['tweet']\n",
    "hate_tweet"
   ]
  },
  {
   "cell_type": "code",
   "execution_count": null,
   "id": "aa7f27b6-3cf6-4292-b785-6b167c0d48f8",
   "metadata": {},
   "outputs": [],
   "source": [
    "# Non Hate speech \n",
    "non_hate_tweet=train_df[train_df['label']==0]['tweet']\n",
    "non_hate_tweet"
   ]
  },
  {
   "cell_type": "code",
   "execution_count": null,
   "id": "3a312bf9-6098-4891-968b-df5887b00ec0",
   "metadata": {},
   "outputs": [],
   "source": [
    "!pip install wordcloud"
   ]
  },
  {
   "cell_type": "code",
   "execution_count": null,
   "id": "b9f9911e-38f6-43de-91c3-a199054db2c1",
   "metadata": {},
   "outputs": [],
   "source": [
    "from wordcloud import WordCloud\n",
    "# Combine all hate speech tweets into a single string\n",
    "hate_speech_text = \" \".join(hate_tweet)\n",
    "\n",
    "# Combine all non-hate speech tweets into a single string\n",
    "non_hate_speech_text = \" \".join(non_hate_tweet)\n",
    "\n",
    "# Generate word clouds\n",
    "hate_wordcloud = WordCloud(width=800, height=400, background_color='black', colormap='Reds').generate(hate_speech_text)\n",
    "non_hate_wordcloud = WordCloud(width=800, height=400, background_color='white', colormap='Blues').generate(non_hate_speech_text)\n",
    "\n",
    "# Display the word clouds\n",
    "plt.figure(figsize=(15, 8))\n",
    "\n",
    "# Hate Speech Word Cloud\n",
    "plt.subplot(1, 2, 1)\n",
    "plt.imshow(hate_wordcloud, interpolation='bilinear')\n",
    "plt.axis('off')\n",
    "plt.title(\"Word Cloud for Hate Speech Tweets\", fontsize=16)\n",
    "\n",
    "# Non-Hate Speech Word Cloud\n",
    "plt.subplot(1, 2, 2)\n",
    "plt.imshow(non_hate_wordcloud, interpolation='bilinear')\n",
    "plt.axis('off')\n",
    "plt.title(\"Word Cloud for Non-Hate Speech Tweets\", fontsize=16)\n",
    "\n",
    "plt.tight_layout()\n",
    "plt.show()\n"
   ]
  },
  {
   "cell_type": "code",
   "execution_count": null,
   "id": "aa6277d3-ea13-449e-99dc-0cf03a3f4207",
   "metadata": {},
   "outputs": [],
   "source": [
    "## since the word user does not posses any valid info here we can remove it..because they are more widely spread in both hate and non hate speach\n",
    "\n",
    "# Function to remove the word \"user\" from a tweet\n",
    "def remove_user_word(tweet):\n",
    "    return \" \".join([word for word in tweet.split() if word.lower() != \"@user\"])\n",
    "\n",
    "# Apply the function to the 'tweet' column in train and test datasets\n",
    "train_df['tweet'] = train_df['tweet'].apply(remove_user_word)\n",
    "test_df['tweet'] = test_df['tweet'].apply(remove_user_word)\n",
    "\n",
    "# Display the first few rows of each dataframe to verify\n",
    "print(\"Updated Train DataFrame:\")\n",
    "print(train_df.head())\n",
    "\n",
    "print(\"\\nUpdated Test DataFrame:\")\n",
    "print(test_df.head())\n"
   ]
  },
  {
   "cell_type": "code",
   "execution_count": null,
   "id": "a3939c95-0be4-42b9-8ce3-a769ba4e4241",
   "metadata": {},
   "outputs": [],
   "source": [
    "##removal of punctuation\n",
    "\n",
    "import string\n",
    "string.punctuation\n",
    "\n",
    "def remove_punctuations(tweet):\n",
    "    punctuations =string.punctuation\n",
    "    return tweet.translate(str.maketrans('','',punctuations))"
   ]
  },
  {
   "cell_type": "code",
   "execution_count": null,
   "id": "fe010e7d-67ec-4fe1-b7f4-b485995616aa",
   "metadata": {},
   "outputs": [],
   "source": [
    "train_df['tweet']=train_df['tweet'].apply(lambda x:remove_punctuations (x))\n",
    "test_df['tweet']=test_df['tweet'].apply(lambda x:remove_punctuations (x))"
   ]
  },
  {
   "cell_type": "code",
   "execution_count": null,
   "id": "ac52c4c6-58f7-44b6-90a4-21416e263dcb",
   "metadata": {},
   "outputs": [],
   "source": [
    "## Removing special characters\n",
    "\n",
    "import re\n",
    "train_df['tweet']=train_df['tweet'].apply(lambda x:re.sub(r'[^\\w ]+', \"\",x))\n",
    "test_df['tweet']=test_df['tweet'].apply(lambda x:re.sub(r'[^\\w ]+', \"\",x))\n",
    "train_df['tweet']=train_df['tweet'].apply(lambda x:re.sub('[^a-zA-Z0-9]',' ',x))\n",
    "test_df['tweet']=test_df['tweet'].apply(lambda x:re.sub('[^a-zA-Z0-9]',' ',x))\n",
    "train_df['tweet']=train_df['tweet'].apply(lambda x:re.sub('\\d+',' ',x))\n",
    "test_df['tweet']=test_df['tweet'].apply(lambda x:re.sub('\\d+',' ',x))\n",
    "\n",
    "##Removing extra spaces\n",
    "train_df['tweet']=train_df['tweet'].apply(lambda x:' '.join(x.split()))\n",
    "test_df['tweet']=test_df['tweet'].apply(lambda x:' '.join(x.split()))"
   ]
  },
  {
   "cell_type": "code",
   "execution_count": null,
   "id": "e0851c50-d236-4af7-aeb9-92c1990b74d7",
   "metadata": {},
   "outputs": [],
   "source": [
    "## Converting to Lowercase\n",
    "train_df['tweet'].str.lower()\n",
    "test_df['tweet'].str.lower()"
   ]
  },
  {
   "cell_type": "code",
   "execution_count": null,
   "id": "c6299123-5ebb-4e84-b891-99f86d423e27",
   "metadata": {},
   "outputs": [],
   "source": [
    "##rare words removal for train data\n",
    "\n",
    "from collections import Counter\n",
    "word_count=Counter()\n",
    "for text in train_df['tweet']:\n",
    "    for word in text.split():\n",
    "        word_count[word] += 1\n",
    "word_count.most_common(10)\n",
    "\n",
    "rare_words=set((word,wc) for (word,wc) in word_count.most_common()[:-100:-1])\n",
    "\n",
    "def remove_rare_words(tweet):\n",
    "    return \" \".join([word for word in tweet.split() if word not in rare_words])"
   ]
  },
  {
   "cell_type": "code",
   "execution_count": null,
   "id": "cf143f98-b4b3-419c-9f97-0f12fc94617e",
   "metadata": {},
   "outputs": [],
   "source": [
    "train_df=train_df.applymap(lambda x: remove_rare_words(x)if isinstance(x, str) else x)\n",
    "train_df.head(5)"
   ]
  },
  {
   "cell_type": "code",
   "execution_count": null,
   "id": "f26f8485-708a-43cc-a64a-f227125711d1",
   "metadata": {},
   "outputs": [],
   "source": [
    "##rare words removal for test data\n",
    "\n",
    "from collections import Counter\n",
    "word_count_1=Counter()\n",
    "for text in test_df['tweet']:\n",
    "    for word in text.split():\n",
    "        word_count_1[word] += 1\n",
    "word_count_1.most_common(10)\n",
    "\n",
    "rare_words_1=set((word,wc) for (word,wc) in word_count_1.most_common()[:-100:-1])\n",
    "\n",
    "def remove_rare_words_1(tweet):\n",
    "    return \" \".join([word for word in tweet.split() if word not in rare_words_1])"
   ]
  },
  {
   "cell_type": "code",
   "execution_count": null,
   "id": "19544a26-453b-4851-aa63-dea5d4cbb6fd",
   "metadata": {},
   "outputs": [],
   "source": [
    "test_df=test_df.applymap(lambda x: remove_rare_words_1(x)if isinstance(x, str) else x)\n",
    "test_df.head(5)"
   ]
  },
  {
   "cell_type": "code",
   "execution_count": null,
   "id": "f08426ca-e5ec-456d-b4a2-30f59b723c70",
   "metadata": {},
   "outputs": [],
   "source": [
    "# Removal of stopwords\n",
    "import nltk\n",
    "nltk.download('stopwords')\n",
    "from nltk.corpus import stopwords\n",
    "\", \".join(stopwords.words('english'))\n",
    "from nltk.corpus import stopwords as nltk_stopwords\n",
    "# Create a set of stopwords\n",
    "stopwords_set = set(nltk_stopwords.words('english'))\n",
    "\n",
    "def remove_stopwords(text):\n",
    "    return \" \".join([word for word in text.split() if word.lower() not in stopwords_set])"
   ]
  },
  {
   "cell_type": "code",
   "execution_count": null,
   "id": "aea35b0b-a0ff-48e8-871c-012df1b1a26f",
   "metadata": {},
   "outputs": [],
   "source": [
    "train_df['tweet']= train_df['tweet'].apply(remove_stopwords)\n",
    "test_df['tweet']= test_df['tweet'].apply(remove_stopwords)"
   ]
  },
  {
   "cell_type": "code",
   "execution_count": null,
   "id": "acee5657-dacb-4507-bc1c-b547108dabf2",
   "metadata": {},
   "outputs": [],
   "source": [
    "nltk.download('punkt')\n",
    "nltk.download('wordnet')"
   ]
  },
  {
   "cell_type": "code",
   "execution_count": null,
   "id": "0651c354-cb96-4859-88cc-cb34b441eda3",
   "metadata": {},
   "outputs": [],
   "source": [
    "from nltk.stem import PorterStemmer, WordNetLemmatizer\n",
    "from nltk.tokenize import word_tokenize\n",
    "\n",
    "# Initializing stemmer and lemmatizer\n",
    "stemmer = PorterStemmer()\n",
    "lemmatizer = WordNetLemmatizer()\n"
   ]
  },
  {
   "cell_type": "code",
   "execution_count": null,
   "id": "9587b64f-af4b-4452-ba4d-717795cad8bf",
   "metadata": {},
   "outputs": [],
   "source": [
    "def preprocess_text(text, method='lemmatization'):\n",
    "    # Tokenising the text\n",
    "    tokens = word_tokenize(text)\n",
    "    # Apply stemming / lemmatization\n",
    "    if method == 'stemming':\n",
    "        tokens = [stemmer.stem(token) for token in tokens]\n",
    "    elif method == 'lemmatization':\n",
    "        tokens = [lemmatizer.lemmatize(token) for token in tokens]\n",
    "    # Reconstruct the text\n",
    "    return ' '.join(tokens)\n"
   ]
  },
  {
   "cell_type": "code",
   "execution_count": null,
   "id": "8c749d84-c03c-4da8-9e72-0409f850ed5a",
   "metadata": {},
   "outputs": [],
   "source": [
    "train_df['tweet'] = train_df['tweet'].apply(lambda x: preprocess_text(x, method='lemmatization'))\n",
    "test_df['tweet'] = test_df['tweet'].apply(lambda x: preprocess_text(x, method='lemmatization'))"
   ]
  },
  {
   "cell_type": "code",
   "execution_count": null,
   "id": "3b985d1e-ccbd-48f6-8a41-08d8846ccca4",
   "metadata": {},
   "outputs": [],
   "source": [
    "train_df['tweet'].head(10)"
   ]
  },
  {
   "cell_type": "code",
   "execution_count": null,
   "id": "e0e483c6-a5ac-4908-8571-a421bb9e8c4c",
   "metadata": {},
   "outputs": [],
   "source": [
    "# Now , since we have completed the preprocessing step, next step is to create features for model.  \n",
    "# Since we have unbalanced labels, we here use SMOTE technique to balance the data"
   ]
  }
 ],
 "metadata": {
  "kernelspec": {
   "display_name": "Python 3 (ipykernel)",
   "language": "python",
   "name": "python3"
  },
  "language_info": {
   "codemirror_mode": {
    "name": "ipython",
    "version": 3
   },
   "file_extension": ".py",
   "mimetype": "text/x-python",
   "name": "python",
   "nbconvert_exporter": "python",
   "pygments_lexer": "ipython3",
   "version": "3.12.4"
  }
 },
 "nbformat": 4,
 "nbformat_minor": 5
}
