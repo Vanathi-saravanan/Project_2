{
 "cells": [
  {
   "cell_type": "markdown",
   "id": "5873b8fe-d23f-425a-9f57-13b543b67084",
   "metadata": {},
   "source": [
    "## CONVERTING TEXTS TO FEATURES"
   ]
  },
  {
   "cell_type": "code",
   "execution_count": null,
   "id": "3087c477-9dd3-40f4-b08a-97a484207a5d",
   "metadata": {},
   "outputs": [],
   "source": [
    "X = train_df['tweet']\n",
    "y = train_df['label']\n",
    "X_test = test_df['tweet']"
   ]
  },
  {
   "cell_type": "code",
   "execution_count": null,
   "id": "da6bd151-f365-44e5-af92-c818653704c6",
   "metadata": {},
   "outputs": [],
   "source": [
    "## Converting the text data into vectors:\n",
    "vectorizer = TfidfVectorizer()\n",
    "X_vectorized = vectorizer.fit_transform(X)\n",
    "\n",
    "# Spliting the dataset into training and validation sets\n",
    "X_train, X_test, y_train, y_test= train_test_split(X_vectorized, y, test_size=0.2, random_state=42)"
   ]
  },
  {
   "cell_type": "code",
   "execution_count": null,
   "id": "6c78024e-1818-4b19-8615-9e0d9611c7a9",
   "metadata": {},
   "outputs": [],
   "source": [
    "# Applying SMOTE to balance the dataset\n",
    "smote = SMOTE(random_state=42)\n",
    "X_resampled, y_resampled = smote.fit_resample(X_train, y_train)"
   ]
  }
 ],
 "metadata": {
  "kernelspec": {
   "display_name": "Python 3 (ipykernel)",
   "language": "python",
   "name": "python3"
  },
  "language_info": {
   "codemirror_mode": {
    "name": "ipython",
    "version": 3
   },
   "file_extension": ".py",
   "mimetype": "text/x-python",
   "name": "python",
   "nbconvert_exporter": "python",
   "pygments_lexer": "ipython3",
   "version": "3.12.4"
  }
 },
 "nbformat": 4,
 "nbformat_minor": 5
}
