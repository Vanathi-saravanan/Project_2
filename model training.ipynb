{
 "cells": [
  {
   "cell_type": "code",
   "execution_count": null,
   "id": "ea90d243-0e74-4318-98e1-086866a27158",
   "metadata": {},
   "outputs": [],
   "source": [
    "# Initialize models\n",
    "log_reg = LogisticRegression(max_iter=1000)\n",
    "svm = SVC()\n",
    "rf = RandomForestClassifier()\n"
   ]
  },
  {
   "cell_type": "code",
   "execution_count": null,
   "id": "20d4be21-883d-43e9-bbd2-cb6ae18a570a",
   "metadata": {},
   "outputs": [],
   "source": [
    "log_reg.fit(X_resampled, y_resampled)"
   ]
  },
  {
   "cell_type": "code",
   "execution_count": null,
   "id": "2a956786-9be0-499d-b760-0dede82ec93d",
   "metadata": {},
   "outputs": [],
   "source": [
    "svm.fit(X_resampled, y_resampled)"
   ]
  },
  {
   "cell_type": "code",
   "execution_count": null,
   "id": "be5cdfe9-a6e1-4c45-a135-75e36ac36fcc",
   "metadata": {},
   "outputs": [],
   "source": [
    "rf.fit(X_resampled, y_resampled)"
   ]
  },
  {
   "cell_type": "code",
   "execution_count": null,
   "id": "a66107db-d977-4241-a4cf-c87d51637862",
   "metadata": {},
   "outputs": [],
   "source": [
    "## Model prediction\n",
    "log_reg_preds = log_reg.predict(X_test)\n",
    "svm_preds = svm.predict(X_test)\n",
    "rf_preds = rf.predict(X_test)\n"
   ]
  },
  {
   "cell_type": "code",
   "execution_count": null,
   "id": "37b607a2-13f9-4054-bbf6-742b2a2b1d4a",
   "metadata": {},
   "outputs": [],
   "source": [
    "# Evaluate models\n",
    "def evaluate_model(y_test, y_pred, model_name):\n",
    "    print(f\"{model_name} Classification Report:\")\n",
    "    print(classification_report(y_test, y_pred))\n",
    "    print(f\"{model_name} Confusion Matrix:\")\n",
    "    print(confusion_matrix(y_test, y_pred))\n",
    "    \n",
    "    # Evaluation metrics\n",
    "    accuracy = accuracy_score(y_test, y_pred)\n",
    "    precision = precision_score(y_test, y_pred, average='weighted')\n",
    "    recall = recall_score(y_test, y_pred, average='weighted')\n",
    "    f1 = f1_score(y_test, y_pred, average='weighted')\n",
    "    \n",
    "    print(f\"{model_name} Accuracy: {accuracy:.2f}\")\n",
    "    print(f\"{model_name} Precision: {precision:.2f}\")\n",
    "    print(f\"{model_name} Recall: {recall:.2f}\")\n",
    "    print(f\"{model_name} F1-Score: {f1:.2f}\")\n",
    "    print(\"\\n\")"
   ]
  },
  {
   "cell_type": "code",
   "execution_count": null,
   "id": "38c9a727-b173-49f6-9024-0f4461e3bca5",
   "metadata": {},
   "outputs": [],
   "source": [
    "# Evaluating on the test data\n",
    "evaluate_model(y_test, log_reg_preds, \"Logistic Regression\")\n",
    "evaluate_model(y_test, svm_preds, \"SVM\")\n",
    "evaluate_model(y_test, rf_preds, \"Random Forest\")\n"
   ]
  },
  {
   "cell_type": "code",
   "execution_count": null,
   "id": "7138e605-01f7-4559-b0df-4d18c8eb8620",
   "metadata": {},
   "outputs": [],
   "source": [
    "# Cross-validation\n",
    "models = {'Logistic Regression': log_reg, 'SVM': svm, 'Random Forest': rf}"
   ]
  },
  {
   "cell_type": "code",
   "execution_count": null,
   "id": "2d8b2127-ec43-44bf-9f43-066a965ba89e",
   "metadata": {},
   "outputs": [],
   "source": [
    "for model_name, model in models.items():\n",
    "    cv_scores = cross_val_score(model, X_vectorized, y, cv=5, scoring='f1_weighted',n_jobs=-1)\n",
    "    print(f\"{model_name} Cross-Validated F1-Score: {cv_scores.mean():.2f} ± {cv_scores.std():.2f}\")"
   ]
  },
  {
   "cell_type": "code",
   "execution_count": null,
   "id": "d8358780-0fce-4e34-93b5-9b12597a8500",
   "metadata": {},
   "outputs": [],
   "source": [
    "# Define models and their hyperparameters for Grid Search\n",
    "hyperparams = {\n",
    "    'Logistic Regression': {\n",
    "        'C': [0.01, 0.1, 1, 10],\n",
    "        'solver': ['liblinear', 'saga']},\n",
    "    'SVM': {\n",
    "        'C': [1, 10],\n",
    "        'kernel': ['linear'],\n",
    "        'gamma': ['scale']},\n",
    "    'Random Forest': {\n",
    "        'n_estimators': [100, 200],\n",
    "        'max_depth': [None,20]}}\n",
    "best_models = {}\n"
   ]
  },
  {
   "cell_type": "code",
   "execution_count": null,
   "id": "a76ac310-4fe3-4961-95d6-f59e7ab8d4f2",
   "metadata": {},
   "outputs": [],
   "source": [
    "for model_name, params in hyperparams.items():\n",
    "    print(f\"Optimizing {model_name}...\")\n",
    "    model = models[model_name]\n",
    "    grid_search = GridSearchCV(model, params, cv=5, scoring='f1_weighted', n_jobs=-1)\n",
    "    grid_search.fit(X_resampled, y_resampled)\n",
    "    print(f\"Best parameters for {model_name}: {grid_search.best_params_}\")\n",
    "    best_models[model_name] = grid_search.best_estimator_"
   ]
  },
  {
   "cell_type": "code",
   "execution_count": null,
   "id": "e4c1b1d0-e299-471d-96dd-e2120bf1f00d",
   "metadata": {},
   "outputs": [],
   "source": [
    "for model_name, model in best_models.items():\n",
    "    y_pred = model.predict(X_test)\n",
    "    evaluate_model(y_test, y_pred, model_name)"
   ]
  }
 ],
 "metadata": {
  "kernelspec": {
   "display_name": "Python 3 (ipykernel)",
   "language": "python",
   "name": "python3"
  },
  "language_info": {
   "codemirror_mode": {
    "name": "ipython",
    "version": 3
   },
   "file_extension": ".py",
   "mimetype": "text/x-python",
   "name": "python",
   "nbconvert_exporter": "python",
   "pygments_lexer": "ipython3",
   "version": "3.12.4"
  }
 },
 "nbformat": 4,
 "nbformat_minor": 5
}
